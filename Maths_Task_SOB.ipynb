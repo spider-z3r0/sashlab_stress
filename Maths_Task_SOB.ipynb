{
 "cells": [
  {
   "cell_type": "code",
   "execution_count": 103,
   "metadata": {},
   "outputs": [],
   "source": [
    "from random import randint\n",
    "from datetime import time, date, datetime, timedelta\n",
    "import keyboard as kb"
   ]
  },
  {
   "cell_type": "code",
   "execution_count": null,
   "metadata": {},
   "outputs": [],
   "source": [
    "# Code to check a timeout after a certain amount of time- this works\n",
    "\n",
    "timeout = datetime.now() + timedelta(seconds=10)\n",
    "print (timeout)\n",
    "while True:\n",
    "    test = 0\n",
    "    if test == 5 or datetime.now() > timeout:\n",
    "        break\n",
    "    test = test - 1"
   ]
  },
  {
   "cell_type": "code",
   "execution_count": 3,
   "metadata": {},
   "outputs": [],
   "source": [
    "# Defining a function to create the random numbers for the task\n",
    "# The function is called make_n and the len in brackets is a way of defining how many digits long the random number should be\n",
    "\n",
    "def make_n(len) :\n",
    "    temp_list = []\n",
    "    for i in range(len) :\n",
    "        temp_list.append(str(randint(0,9)))\n",
    "    wanted_val = int(''.join(temp_list))\n",
    "    return wanted_val"
   ]
  },
  {
   "cell_type": "code",
   "execution_count": null,
   "metadata": {},
   "outputs": [],
   "source": [
    "# First page, used to enter participant ID and check that their keyboard is working\n",
    "print (\"Please enter the information below, pressing enter after each line\")\n",
    "str_participant_ID = input (\"Participant ID:\")\n",
    "participant_ID = int (str_participant_ID)\n",
    "print (\"Your participant ID is\", participant_ID)\n",
    "str_test_math = input (\"To test your keyboard, please solve the following sum. 7-5 =\")\n",
    "test_math = int (str_test_math)\n",
    "if test_math == 2 :\n",
    "    print(\"Correct\")\n",
    "else:\n",
    "    print(\"Incorrect, the correct answer is 2. Please try again\")\n",
    "    str_test_math = input (\"To test your keyboard, please solve the following sum. 7-5 =\")\n",
    "    test_math = int (str_test_math)\n",
    "    if test_math == 2 :\n",
    "        print(\"Correct\")\n",
    "    else:\n",
    "        print(\"Incorrect, the correct answer is 2. Please alert the researcher for further instructions\")\n",
    "\n",
    "print(\"Researcher, please press the space bar to begin\")\n",
    "kb.wait('space')\n",
    "print('You pressed space')\n",
    "\n",
    "# How to make this pop up on a screen of its own\n",
    "# What to do if test task is incorrect more than once? Set to alert researcher at the moment\n",
    "# For the moment, the code is set to just print to say that space was pressed. \n",
    "# When this is all together in one block of code, need to set so it runs the next part of the code"
   ]
  },
  {
   "cell_type": "code",
   "execution_count": null,
   "metadata": {},
   "outputs": [],
   "source": [
    "# Instruction screen\n",
    "print (\"Subtraction problems will appear on screen. Please solve the problem and enter your answer using the keyboard\")\n",
    "print(\"Researcher, please press the space bar to begin\")\n",
    "kb.wait('space')\n",
    "print('You pressed space')\n",
    " \n",
    "# Same setup as above, tells researcher that space is pressed. Change this when all code together in one block"
   ]
  },
  {
   "cell_type": "code",
   "execution_count": 190,
   "metadata": {},
   "outputs": [],
   "source": [
    "# Choose random 2-digit and 1-digit numbers, ask for the input of one minus the other, say if it's correct or not\n",
    "# This cell sets up the answers list, which can be used to check attention later\n",
    "# Also sets up the corrects list, which will be used in the loop to move on after 5 corrects or kick out after 5 incorrects\n",
    "# Corrects list has to have the word \"Correct\" in it to start, otherwise While function in next cell won't run\n",
    "\n",
    "answers = []\n",
    "corrects = ['Correct']"
   ]
  },
  {
   "cell_type": "code",
   "execution_count": null,
   "metadata": {},
   "outputs": [],
   "source": [
    "# Asked friend computer for help, this is what came out\n",
    "\n",
    "# In this example:\n",
    "\n",
    "# The DifficultyManager class keeps track of the correct and incorrect streaks.\n",
    "# When a participant answers correctly, the correct streak is incremented, and the incorrect streak is reset.\n",
    "# When a participant answers incorrectly, the incorrect streak is incremented, and the correct streak is reset.\n",
    "# The difficulty level increases after 3 consecutive correct answers and decreases after 3 consecutive incorrect answers.\n",
    "\n",
    "class DifficultyManager:\n",
    "    def __init__(self):\n",
    "        self.correct_streak = 0\n",
    "        self.incorrect_streak = 0\n",
    "        self.difficulty = 1  # Initial difficulty level\n",
    "\n",
    "    def update_streaks(self, is_correct):\n",
    "        if is_correct:\n",
    "            self.correct_streak += 1\n",
    "            self.incorrect_streak = 0\n",
    "        else:\n",
    "            self.incorrect_streak += 1\n",
    "            self.correct_streak = 0\n",
    "\n",
    "    def update_difficulty(self):\n",
    "        if self.correct_streak >= 3:\n",
    "            self.difficulty += 1\n",
    "            self.correct_streak = 0\n",
    "        elif self.incorrect_streak >= 3:\n",
    "            self.difficulty -= 1\n",
    "            self.incorrect_streak = 0\n",
    "\n",
    "    def get_difficulty(self):\n",
    "        return self.difficulty\n",
    "\n",
    "# Example usage:\n",
    "difficulty_manager = DifficultyManager()\n",
    "\n",
    "# Simulate participant's answers (replace with actual logic)\n",
    "participant_answers = [True, True, True, False, False, True, False]\n",
    "\n",
    "for answer in participant_answers:\n",
    "    difficulty_manager.update_streaks(answer)\n",
    "    difficulty_manager.update_difficulty()\n",
    "    print(f\"Current difficulty: {difficulty_manager.get_difficulty()}\")\n"
   ]
  },
  {
   "cell_type": "code",
   "execution_count": null,
   "metadata": {},
   "outputs": [],
   "source": [
    "# Also asked it for help with the timing element of the task\n",
    "\n",
    "import time\n",
    "\n",
    "# Simulate running the task for 20 seconds\n",
    "start_time = time.time()\n",
    "\n",
    "while True:\n",
    "    # Your task logic here (e.g., asking questions, processing answers)\n",
    "    # ...\n",
    "\n",
    "    # Check if 20 seconds have elapsed\n",
    "    elapsed_time = time.time() - start_time\n",
    "    if elapsed_time >= 20:\n",
    "        print(\"Time's up! Task completed.\")\n",
    "        break"
   ]
  },
  {
   "cell_type": "code",
   "execution_count": 191,
   "metadata": {},
   "outputs": [
    {
     "name": "stdout",
     "output_type": "stream",
     "text": [
      "Correct\n"
     ]
    },
    {
     "ename": "KeyboardInterrupt",
     "evalue": "",
     "output_type": "error",
     "traceback": [
      "\u001b[1;31m---------------------------------------------------------------------------\u001b[0m",
      "\u001b[1;31mKeyboardInterrupt\u001b[0m                         Traceback (most recent call last)",
      "Cell \u001b[1;32mIn[191], line 41\u001b[0m\n\u001b[0;32m     39\u001b[0m     \u001b[38;5;28;01mbreak\u001b[39;00m\n\u001b[0;32m     40\u001b[0m \u001b[38;5;28;01mwhile\u001b[39;00m \u001b[38;5;28;01mTrue\u001b[39;00m:\n\u001b[1;32m---> 41\u001b[0m     \u001b[38;5;28;01mif\u001b[39;00m \u001b[43melapsed_time\u001b[49m \u001b[38;5;241m>\u001b[39m\u001b[38;5;241m=\u001b[39m \u001b[38;5;241m5\u001b[39m:\n\u001b[0;32m     42\u001b[0m         \u001b[38;5;28mprint\u001b[39m(\u001b[38;5;124m\"\u001b[39m\u001b[38;5;124mTime\u001b[39m\u001b[38;5;124m'\u001b[39m\u001b[38;5;124ms up! Task completed.\u001b[39m\u001b[38;5;124m\"\u001b[39m)\n\u001b[0;32m     43\u001b[0m         \u001b[38;5;28;01mbreak\u001b[39;00m\n",
      "\u001b[1;31mKeyboardInterrupt\u001b[0m: "
     ]
    }
   ],
   "source": [
    "# Start loop here\n",
    "# Correct answer and the inputted answer are both set to 0, these variables are then redefined in the loop\n",
    "# Setting the block number to 1 to kick off the first block\n",
    "    \n",
    "corr_answer = 0\n",
    "int_part_answer = 0\n",
    "block = 1\n",
    "\n",
    "timeout = datetime.now() + timedelta(seconds=5)\n",
    "# Timeout timing is being recognised, checked it with print(timeout)- it's just not working within the loop\n",
    "\n",
    "while 'Correct' in corrects :\n",
    "    x = make_n(block + 1)\n",
    "    y = make_n(block)\n",
    "    corr_answer = x - y\n",
    "    part_answer = input(f\"{x} - {y} Answer: \")\n",
    "    int_part_answer = int(part_answer)  \n",
    "    if int_part_answer == corr_answer:\n",
    "            answers.append(part_answer)\n",
    "            corrects.append(\"Correct\")\n",
    "            print(\"Correct\")\n",
    "    else:\n",
    "        answers.append(part_answer)\n",
    "        corrects.append(\"Incorrect\")\n",
    "        print(\"Incorrect\")\n",
    "# This next part is causing trouble- if they get three right it bumps them up, but if they get a fourth right, it bumps them up again\n",
    "# Something similar happening with the incorrects- three incorrect will bump down a level and a fourth will bump down another level\n",
    "# Some kind of AND operator to link them?\n",
    "# Or maybe a dictionary of lists?\n",
    "    if 'Correct' not in corrects[-3:] :\n",
    "        block -= 1\n",
    "    elif 'Incorrect' not in corrects[-3:] :\n",
    "        block += 1\n",
    "    else :\n",
    "        block = block \n",
    "    if 'Correct' not in corrects[-3:] and block == 1 :\n",
    "        break\n",
    "\n",
    "print(\"Thank you, the task is complete. Please await further instructions from the researcher\")\n",
    "\n",
    "\n",
    "\n",
    "\n",
    "\n",
    "# Sometimes giving wrong digit lengths for the x and y\n",
    "# When does the task end? For the moment, made it so that it kicks out if 3 incorrect in a row at the lowest block\n",
    "# Run for 5 minutes regardless- currently at 5 seconds for testing\n",
    "# Need to put a timer on each answer and timeout if 15 seconds is reached\n",
    "# also make this timeout flexible for researcher to change- make it an editable variable"
   ]
  },
  {
   "cell_type": "code",
   "execution_count": null,
   "metadata": {},
   "outputs": [],
   "source": [
    "# This cell is to check the answers and corrects list\n",
    "# Print this as a row in a .csv file with participant ID file\n",
    "# Compute n correct, n incorrect, n timeouts\n",
    "# Need to strip out the first Correct, as that was just there to make sure the loop code above would be triggered\n",
    "\n",
    "print(answers)\n",
    "print(corrects)"
   ]
  }
 ],
 "metadata": {
  "kernelspec": {
   "display_name": "Python 3",
   "language": "python",
   "name": "python3"
  },
  "language_info": {
   "codemirror_mode": {
    "name": "ipython",
    "version": 3
   },
   "file_extension": ".py",
   "mimetype": "text/x-python",
   "name": "python",
   "nbconvert_exporter": "python",
   "pygments_lexer": "ipython3",
   "version": "3.9.1"
  }
 },
 "nbformat": 4,
 "nbformat_minor": 2
}
